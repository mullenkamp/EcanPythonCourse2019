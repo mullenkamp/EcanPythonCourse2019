{
 "cells": [
  {
   "cell_type": "markdown",
   "metadata": {},
   "source": [
    "# Timeseries\n",
    "\n",
    "This notebook is part of the course called [Effective Pandas](https://github.com/TomAugspurger/effective-pandas).\n",
    "\n",
    "Pandas started out in the financial world, so naturally it has strong timeseries support.\n",
    "\n"
   ]
  },
  {
   "cell_type": "code",
   "execution_count": 2,
   "metadata": {},
   "outputs": [],
   "source": [
    "%matplotlib inline\n",
    "\n",
    "import os\n",
    "import numpy as np\n",
    "import pandas as pd\n",
    "import matplotlib.pyplot as plt"
   ]
  },
  {
   "cell_type": "markdown",
   "metadata": {},
   "source": [
    "Let's grab some stock data for Goldman Sachs:"
   ]
  },
  {
   "cell_type": "code",
   "execution_count": 25,
   "metadata": {},
   "outputs": [
    {
     "name": "stdout",
     "output_type": "stream",
     "text": [
      "69614    float64\n",
      "69618    float64\n",
      "71104    float64\n",
      "dtype: object\n",
      "DatetimeIndex(['1980-07-01', '1980-07-02', '1980-07-03', '1980-07-04',\n",
      "               '1980-07-05', '1980-07-06', '1980-07-07', '1980-07-08',\n",
      "               '1980-07-09', '1980-07-10',\n",
      "               ...\n",
      "               '2017-06-21', '2017-06-22', '2017-06-23', '2017-06-24',\n",
      "               '2017-06-25', '2017-06-26', '2017-06-27', '2017-06-28',\n",
      "               '2017-06-29', '2017-06-30'],\n",
      "              dtype='datetime64[ns]', name='Date', length=13514, freq=None)\n"
     ]
    },
    {
     "data": {
      "text/html": [
       "<div>\n",
       "<style scoped>\n",
       "    .dataframe tbody tr th:only-of-type {\n",
       "        vertical-align: middle;\n",
       "    }\n",
       "\n",
       "    .dataframe tbody tr th {\n",
       "        vertical-align: top;\n",
       "    }\n",
       "\n",
       "    .dataframe thead th {\n",
       "        text-align: right;\n",
       "    }\n",
       "</style>\n",
       "<table border=\"1\" class=\"dataframe\">\n",
       "  <thead>\n",
       "    <tr style=\"text-align: right;\">\n",
       "      <th></th>\n",
       "      <th>69614</th>\n",
       "      <th>69618</th>\n",
       "      <th>71104</th>\n",
       "    </tr>\n",
       "    <tr>\n",
       "      <th>Date</th>\n",
       "      <th></th>\n",
       "      <th></th>\n",
       "      <th></th>\n",
       "    </tr>\n",
       "  </thead>\n",
       "  <tbody>\n",
       "    <tr>\n",
       "      <th>1980-07-01</th>\n",
       "      <td>5.838</td>\n",
       "      <td>4.499</td>\n",
       "      <td>339.110</td>\n",
       "    </tr>\n",
       "    <tr>\n",
       "      <th>1980-07-02</th>\n",
       "      <td>7.340</td>\n",
       "      <td>4.726</td>\n",
       "      <td>356.320</td>\n",
       "    </tr>\n",
       "    <tr>\n",
       "      <th>1980-07-03</th>\n",
       "      <td>6.372</td>\n",
       "      <td>4.379</td>\n",
       "      <td>386.909</td>\n",
       "    </tr>\n",
       "    <tr>\n",
       "      <th>1980-07-04</th>\n",
       "      <td>5.852</td>\n",
       "      <td>4.228</td>\n",
       "      <td>413.347</td>\n",
       "    </tr>\n",
       "    <tr>\n",
       "      <th>1980-07-05</th>\n",
       "      <td>6.359</td>\n",
       "      <td>4.835</td>\n",
       "      <td>445.836</td>\n",
       "    </tr>\n",
       "  </tbody>\n",
       "</table>\n",
       "</div>"
      ],
      "text/plain": [
       "            69614  69618    71104\n",
       "Date                             \n",
       "1980-07-01  5.838  4.499  339.110\n",
       "1980-07-02  7.340  4.726  356.320\n",
       "1980-07-03  6.372  4.379  386.909\n",
       "1980-07-04  5.852  4.228  413.347\n",
       "1980-07-05  6.359  4.835  445.836"
      ]
     },
     "execution_count": 25,
     "metadata": {},
     "output_type": "execute_result"
    }
   ],
   "source": [
    "ts = pd.read_csv('sample_data2.csv', index_col=['Date'], parse_dates=True, infer_datetime_format=True)\n",
    "print(ts.dtypes)\n",
    "print(ts.index)\n",
    "ts.head()"
   ]
  },
  {
   "cell_type": "markdown",
   "metadata": {},
   "source": [
    "There isn't a special data-container just for time series in pandas, they're just `Series` or `DataFrame`s with a `DatetimeIndex`."
   ]
  },
  {
   "cell_type": "markdown",
   "metadata": {},
   "source": [
    "## Special Slicing\n",
    "\n",
    "Looking at the elements of `ts.index`, we see that `DatetimeIndex`es are made up of `pandas.Timestamp`s:"
   ]
  },
  {
   "cell_type": "code",
   "execution_count": 7,
   "metadata": {},
   "outputs": [
    {
     "data": {
      "text/plain": [
       "Timestamp('1980-07-01 00:00:00')"
      ]
     },
     "execution_count": 7,
     "metadata": {},
     "output_type": "execute_result"
    }
   ],
   "source": [
    "ts.index[0]"
   ]
  },
  {
   "cell_type": "markdown",
   "metadata": {},
   "source": [
    "A `Timestamp` is mostly compatible with the `datetime.datetime` class, but much amenable to storage in arrays.\n",
    "\n",
    "Working with `Timestamp`s can be awkward, so Series and DataFrames with `DatetimeIndexes` have some special slicing rules.\n",
    "The first special case is *partial-string indexing*. Say we wanted to select all the days in 2006. Even with `Timestamp`'s convenient constructors, it's a pai"
   ]
  },
  {
   "cell_type": "code",
   "execution_count": 8,
   "metadata": {},
   "outputs": [
    {
     "data": {
      "text/html": [
       "<div>\n",
       "<style scoped>\n",
       "    .dataframe tbody tr th:only-of-type {\n",
       "        vertical-align: middle;\n",
       "    }\n",
       "\n",
       "    .dataframe tbody tr th {\n",
       "        vertical-align: top;\n",
       "    }\n",
       "\n",
       "    .dataframe thead th {\n",
       "        text-align: right;\n",
       "    }\n",
       "</style>\n",
       "<table border=\"1\" class=\"dataframe\">\n",
       "  <thead>\n",
       "    <tr style=\"text-align: right;\">\n",
       "      <th></th>\n",
       "      <th>69614</th>\n",
       "      <th>69618</th>\n",
       "      <th>71104</th>\n",
       "    </tr>\n",
       "    <tr>\n",
       "      <th>Date</th>\n",
       "      <th></th>\n",
       "      <th></th>\n",
       "      <th></th>\n",
       "    </tr>\n",
       "  </thead>\n",
       "  <tbody>\n",
       "    <tr>\n",
       "      <th>2006-01-01</th>\n",
       "      <td>NaN</td>\n",
       "      <td>2.620</td>\n",
       "      <td>311.338</td>\n",
       "    </tr>\n",
       "    <tr>\n",
       "      <th>2006-01-02</th>\n",
       "      <td>NaN</td>\n",
       "      <td>2.717</td>\n",
       "      <td>282.594</td>\n",
       "    </tr>\n",
       "    <tr>\n",
       "      <th>2006-01-03</th>\n",
       "      <td>NaN</td>\n",
       "      <td>2.278</td>\n",
       "      <td>264.637</td>\n",
       "    </tr>\n",
       "    <tr>\n",
       "      <th>2006-01-04</th>\n",
       "      <td>NaN</td>\n",
       "      <td>2.401</td>\n",
       "      <td>240.115</td>\n",
       "    </tr>\n",
       "    <tr>\n",
       "      <th>2006-01-05</th>\n",
       "      <td>NaN</td>\n",
       "      <td>2.220</td>\n",
       "      <td>251.371</td>\n",
       "    </tr>\n",
       "  </tbody>\n",
       "</table>\n",
       "</div>"
      ],
      "text/plain": [
       "            69614  69618    71104\n",
       "Date                             \n",
       "2006-01-01    NaN  2.620  311.338\n",
       "2006-01-02    NaN  2.717  282.594\n",
       "2006-01-03    NaN  2.278  264.637\n",
       "2006-01-04    NaN  2.401  240.115\n",
       "2006-01-05    NaN  2.220  251.371"
      ]
     },
     "execution_count": 8,
     "metadata": {},
     "output_type": "execute_result"
    }
   ],
   "source": [
    "ts.loc[pd.Timestamp('2006-01-01'):pd.Timestamp('2006-12-31')].head()"
   ]
  },
  {
   "cell_type": "markdown",
   "metadata": {},
   "source": [
    "Thanks to partial-string indexing, it's as simple as"
   ]
  },
  {
   "cell_type": "code",
   "execution_count": 9,
   "metadata": {},
   "outputs": [
    {
     "data": {
      "text/html": [
       "<div>\n",
       "<style scoped>\n",
       "    .dataframe tbody tr th:only-of-type {\n",
       "        vertical-align: middle;\n",
       "    }\n",
       "\n",
       "    .dataframe tbody tr th {\n",
       "        vertical-align: top;\n",
       "    }\n",
       "\n",
       "    .dataframe thead th {\n",
       "        text-align: right;\n",
       "    }\n",
       "</style>\n",
       "<table border=\"1\" class=\"dataframe\">\n",
       "  <thead>\n",
       "    <tr style=\"text-align: right;\">\n",
       "      <th></th>\n",
       "      <th>69614</th>\n",
       "      <th>69618</th>\n",
       "      <th>71104</th>\n",
       "    </tr>\n",
       "    <tr>\n",
       "      <th>Date</th>\n",
       "      <th></th>\n",
       "      <th></th>\n",
       "      <th></th>\n",
       "    </tr>\n",
       "  </thead>\n",
       "  <tbody>\n",
       "    <tr>\n",
       "      <th>2006-01-01</th>\n",
       "      <td>NaN</td>\n",
       "      <td>2.620</td>\n",
       "      <td>311.338</td>\n",
       "    </tr>\n",
       "    <tr>\n",
       "      <th>2006-01-02</th>\n",
       "      <td>NaN</td>\n",
       "      <td>2.717</td>\n",
       "      <td>282.594</td>\n",
       "    </tr>\n",
       "    <tr>\n",
       "      <th>2006-01-03</th>\n",
       "      <td>NaN</td>\n",
       "      <td>2.278</td>\n",
       "      <td>264.637</td>\n",
       "    </tr>\n",
       "    <tr>\n",
       "      <th>2006-01-04</th>\n",
       "      <td>NaN</td>\n",
       "      <td>2.401</td>\n",
       "      <td>240.115</td>\n",
       "    </tr>\n",
       "    <tr>\n",
       "      <th>2006-01-05</th>\n",
       "      <td>NaN</td>\n",
       "      <td>2.220</td>\n",
       "      <td>251.371</td>\n",
       "    </tr>\n",
       "  </tbody>\n",
       "</table>\n",
       "</div>"
      ],
      "text/plain": [
       "            69614  69618    71104\n",
       "Date                             \n",
       "2006-01-01    NaN  2.620  311.338\n",
       "2006-01-02    NaN  2.717  282.594\n",
       "2006-01-03    NaN  2.278  264.637\n",
       "2006-01-04    NaN  2.401  240.115\n",
       "2006-01-05    NaN  2.220  251.371"
      ]
     },
     "execution_count": 9,
     "metadata": {},
     "output_type": "execute_result"
    }
   ],
   "source": [
    "ts.loc['2006'].head()"
   ]
  },
  {
   "cell_type": "markdown",
   "metadata": {},
   "source": [
    "Since label slicing is inclusive, this slice selects any observation where the year is 2006."
   ]
  },
  {
   "cell_type": "markdown",
   "metadata": {},
   "source": [
    "The second \"convenience\" is `__getitem__` (square-bracket) fall-back indexing. I'm only going to mention it here, with the caveat that you should never use it.\n",
    "DataFrame `__getitem__` typically looks in the column: `ts['2006']` would search `ts.columns` for `'2006'`, not find it, and raise a `KeyError`. But DataFrames with a `DatetimeIndex` catch that `KeyError` and try to slice the index.\n",
    "If it succeeds in slicing the index, the result like `ts.loc['2006']` is returned.\n",
    "If it fails, the `KeyError` is re-raised.\n",
    "This is confusing because in pretty much every other case `DataFrame.__getitem__` works on columns, and it's fragile because if you happened to have a column `'2006'` you *would* get just that column, and no fall-back indexing would occur. Just use `ts.loc['2006']` when slicing DataFrame indexes.\n"
   ]
  },
  {
   "cell_type": "markdown",
   "metadata": {},
   "source": [
    "## Special Methods"
   ]
  },
  {
   "cell_type": "markdown",
   "metadata": {},
   "source": [
    "### Resampling"
   ]
  },
  {
   "cell_type": "markdown",
   "metadata": {},
   "source": [
    "Resampling is similar to a `groupby`: you split the time series into groups (5-day buckets below), apply a function to each group (`mean`), and combine the result (one row per group)."
   ]
  },
  {
   "cell_type": "code",
   "execution_count": 10,
   "metadata": {},
   "outputs": [
    {
     "data": {
      "text/html": [
       "<div>\n",
       "<style scoped>\n",
       "    .dataframe tbody tr th:only-of-type {\n",
       "        vertical-align: middle;\n",
       "    }\n",
       "\n",
       "    .dataframe tbody tr th {\n",
       "        vertical-align: top;\n",
       "    }\n",
       "\n",
       "    .dataframe thead th {\n",
       "        text-align: right;\n",
       "    }\n",
       "</style>\n",
       "<table border=\"1\" class=\"dataframe\">\n",
       "  <thead>\n",
       "    <tr style=\"text-align: right;\">\n",
       "      <th></th>\n",
       "      <th>69614</th>\n",
       "      <th>69618</th>\n",
       "      <th>71104</th>\n",
       "    </tr>\n",
       "    <tr>\n",
       "      <th>Date</th>\n",
       "      <th></th>\n",
       "      <th></th>\n",
       "      <th></th>\n",
       "    </tr>\n",
       "  </thead>\n",
       "  <tbody>\n",
       "    <tr>\n",
       "      <th>1980-07-01</th>\n",
       "      <td>6.3522</td>\n",
       "      <td>4.5334</td>\n",
       "      <td>388.3044</td>\n",
       "    </tr>\n",
       "    <tr>\n",
       "      <th>1980-07-06</th>\n",
       "      <td>5.2738</td>\n",
       "      <td>4.0158</td>\n",
       "      <td>370.2596</td>\n",
       "    </tr>\n",
       "    <tr>\n",
       "      <th>1980-07-11</th>\n",
       "      <td>4.2348</td>\n",
       "      <td>3.3980</td>\n",
       "      <td>381.2194</td>\n",
       "    </tr>\n",
       "    <tr>\n",
       "      <th>1980-07-16</th>\n",
       "      <td>3.8788</td>\n",
       "      <td>3.1452</td>\n",
       "      <td>380.0658</td>\n",
       "    </tr>\n",
       "    <tr>\n",
       "      <th>1980-07-21</th>\n",
       "      <td>8.6680</td>\n",
       "      <td>3.7688</td>\n",
       "      <td>443.3132</td>\n",
       "    </tr>\n",
       "  </tbody>\n",
       "</table>\n",
       "</div>"
      ],
      "text/plain": [
       "             69614   69618     71104\n",
       "Date                                \n",
       "1980-07-01  6.3522  4.5334  388.3044\n",
       "1980-07-06  5.2738  4.0158  370.2596\n",
       "1980-07-11  4.2348  3.3980  381.2194\n",
       "1980-07-16  3.8788  3.1452  380.0658\n",
       "1980-07-21  8.6680  3.7688  443.3132"
      ]
     },
     "execution_count": 10,
     "metadata": {},
     "output_type": "execute_result"
    }
   ],
   "source": [
    "ts.resample(\"5d\").mean().head()"
   ]
  },
  {
   "cell_type": "code",
   "execution_count": 11,
   "metadata": {},
   "outputs": [
    {
     "data": {
      "text/html": [
       "<div>\n",
       "<style scoped>\n",
       "    .dataframe tbody tr th:only-of-type {\n",
       "        vertical-align: middle;\n",
       "    }\n",
       "\n",
       "    .dataframe tbody tr th {\n",
       "        vertical-align: top;\n",
       "    }\n",
       "\n",
       "    .dataframe thead tr th {\n",
       "        text-align: left;\n",
       "    }\n",
       "\n",
       "    .dataframe thead tr:last-of-type th {\n",
       "        text-align: right;\n",
       "    }\n",
       "</style>\n",
       "<table border=\"1\" class=\"dataframe\">\n",
       "  <thead>\n",
       "    <tr>\n",
       "      <th></th>\n",
       "      <th colspan=\"2\" halign=\"left\">69614</th>\n",
       "      <th colspan=\"2\" halign=\"left\">69618</th>\n",
       "      <th colspan=\"2\" halign=\"left\">71104</th>\n",
       "    </tr>\n",
       "    <tr>\n",
       "      <th></th>\n",
       "      <th>mean</th>\n",
       "      <th>sum</th>\n",
       "      <th>mean</th>\n",
       "      <th>sum</th>\n",
       "      <th>mean</th>\n",
       "      <th>sum</th>\n",
       "    </tr>\n",
       "    <tr>\n",
       "      <th>Date</th>\n",
       "      <th></th>\n",
       "      <th></th>\n",
       "      <th></th>\n",
       "      <th></th>\n",
       "      <th></th>\n",
       "      <th></th>\n",
       "    </tr>\n",
       "  </thead>\n",
       "  <tbody>\n",
       "    <tr>\n",
       "      <th>1980-07-06</th>\n",
       "      <td>6.245000</td>\n",
       "      <td>37.470</td>\n",
       "      <td>4.502833</td>\n",
       "      <td>27.017</td>\n",
       "      <td>383.781667</td>\n",
       "      <td>2302.690</td>\n",
       "    </tr>\n",
       "    <tr>\n",
       "      <th>1980-07-13</th>\n",
       "      <td>4.817429</td>\n",
       "      <td>33.722</td>\n",
       "      <td>3.740143</td>\n",
       "      <td>26.181</td>\n",
       "      <td>376.568429</td>\n",
       "      <td>2635.979</td>\n",
       "    </tr>\n",
       "    <tr>\n",
       "      <th>1980-07-20</th>\n",
       "      <td>3.929429</td>\n",
       "      <td>27.506</td>\n",
       "      <td>3.180571</td>\n",
       "      <td>22.264</td>\n",
       "      <td>380.082429</td>\n",
       "      <td>2660.577</td>\n",
       "    </tr>\n",
       "    <tr>\n",
       "      <th>1980-07-27</th>\n",
       "      <td>8.036571</td>\n",
       "      <td>56.256</td>\n",
       "      <td>3.545000</td>\n",
       "      <td>24.815</td>\n",
       "      <td>452.498143</td>\n",
       "      <td>3167.487</td>\n",
       "    </tr>\n",
       "    <tr>\n",
       "      <th>1980-08-03</th>\n",
       "      <td>4.813571</td>\n",
       "      <td>33.695</td>\n",
       "      <td>2.680571</td>\n",
       "      <td>18.764</td>\n",
       "      <td>524.589143</td>\n",
       "      <td>3672.124</td>\n",
       "    </tr>\n",
       "  </tbody>\n",
       "</table>\n",
       "</div>"
      ],
      "text/plain": [
       "               69614             69618               71104          \n",
       "                mean     sum      mean     sum        mean       sum\n",
       "Date                                                                \n",
       "1980-07-06  6.245000  37.470  4.502833  27.017  383.781667  2302.690\n",
       "1980-07-13  4.817429  33.722  3.740143  26.181  376.568429  2635.979\n",
       "1980-07-20  3.929429  27.506  3.180571  22.264  380.082429  2660.577\n",
       "1980-07-27  8.036571  56.256  3.545000  24.815  452.498143  3167.487\n",
       "1980-08-03  4.813571  33.695  2.680571  18.764  524.589143  3672.124"
      ]
     },
     "execution_count": 11,
     "metadata": {},
     "output_type": "execute_result"
    }
   ],
   "source": [
    "ts.resample(\"W\").agg(['mean', 'sum']).head()"
   ]
  },
  {
   "cell_type": "markdown",
   "metadata": {},
   "source": [
    "You can up-sample to convert to a higher frequency.\n",
    "The new points are filled with NaNs."
   ]
  },
  {
   "cell_type": "code",
   "execution_count": 13,
   "metadata": {},
   "outputs": [
    {
     "data": {
      "text/html": [
       "<div>\n",
       "<style scoped>\n",
       "    .dataframe tbody tr th:only-of-type {\n",
       "        vertical-align: middle;\n",
       "    }\n",
       "\n",
       "    .dataframe tbody tr th {\n",
       "        vertical-align: top;\n",
       "    }\n",
       "\n",
       "    .dataframe thead th {\n",
       "        text-align: right;\n",
       "    }\n",
       "</style>\n",
       "<table border=\"1\" class=\"dataframe\">\n",
       "  <thead>\n",
       "    <tr style=\"text-align: right;\">\n",
       "      <th></th>\n",
       "      <th>69614</th>\n",
       "      <th>69618</th>\n",
       "      <th>71104</th>\n",
       "    </tr>\n",
       "    <tr>\n",
       "      <th>Date</th>\n",
       "      <th></th>\n",
       "      <th></th>\n",
       "      <th></th>\n",
       "    </tr>\n",
       "  </thead>\n",
       "  <tbody>\n",
       "    <tr>\n",
       "      <th>1980-07-01 00:00:00</th>\n",
       "      <td>5.838</td>\n",
       "      <td>4.499</td>\n",
       "      <td>339.11</td>\n",
       "    </tr>\n",
       "    <tr>\n",
       "      <th>1980-07-01 06:00:00</th>\n",
       "      <td>NaN</td>\n",
       "      <td>NaN</td>\n",
       "      <td>NaN</td>\n",
       "    </tr>\n",
       "    <tr>\n",
       "      <th>1980-07-01 12:00:00</th>\n",
       "      <td>NaN</td>\n",
       "      <td>NaN</td>\n",
       "      <td>NaN</td>\n",
       "    </tr>\n",
       "    <tr>\n",
       "      <th>1980-07-01 18:00:00</th>\n",
       "      <td>NaN</td>\n",
       "      <td>NaN</td>\n",
       "      <td>NaN</td>\n",
       "    </tr>\n",
       "    <tr>\n",
       "      <th>1980-07-02 00:00:00</th>\n",
       "      <td>7.340</td>\n",
       "      <td>4.726</td>\n",
       "      <td>356.32</td>\n",
       "    </tr>\n",
       "  </tbody>\n",
       "</table>\n",
       "</div>"
      ],
      "text/plain": [
       "                     69614  69618   71104\n",
       "Date                                     \n",
       "1980-07-01 00:00:00  5.838  4.499  339.11\n",
       "1980-07-01 06:00:00    NaN    NaN     NaN\n",
       "1980-07-01 12:00:00    NaN    NaN     NaN\n",
       "1980-07-01 18:00:00    NaN    NaN     NaN\n",
       "1980-07-02 00:00:00  7.340  4.726  356.32"
      ]
     },
     "execution_count": 13,
     "metadata": {},
     "output_type": "execute_result"
    }
   ],
   "source": [
    "ts.resample(\"6H\").mean().head()"
   ]
  },
  {
   "cell_type": "markdown",
   "metadata": {},
   "source": [
    "### Rolling / Expanding / EW"
   ]
  },
  {
   "cell_type": "markdown",
   "metadata": {},
   "source": [
    "These methods aren't unique to `DatetimeIndex`es, but they often make sense with time series, so I'll show them here."
   ]
  },
  {
   "cell_type": "code",
   "execution_count": 24,
   "metadata": {},
   "outputs": [
    {
     "data": {
      "text/plain": [
       "Text(102.375, 0.5, 'Flow (m3/s)')"
      ]
     },
     "execution_count": 24,
     "metadata": {},
     "output_type": "execute_result"
    },
    {
     "data": {
      "image/png": "[encoded data removed]",
      "text/plain": [
       "<Figure size 1008x432 with 1 Axes>"
      ]
     },
     "metadata": {
      "needs_background": "light"
     },
     "output_type": "display_data"
    }
   ],
   "source": [
    "ts1 = ts.loc['2006', '69618']\n",
    "ts1.plot(label='Raw', figsize=(14, 6), ylim=[0, 50])\n",
    "ts1.rolling(7).mean().plot(label='28D MA')\n",
    "ts1.expanding().mean().plot(label='Expanding Average')\n",
    "ts1.ewm(alpha=0.03).mean().plot(label='EWMA($\\\\alpha=.03$)')\n",
    "\n",
    "plt.legend(bbox_to_anchor=(1.25, .5))\n",
    "plt.tight_layout()\n",
    "plt.ylabel(\"Flow (m3/s)\")"
   ]
  },
  {
   "cell_type": "markdown",
   "metadata": {},
   "source": [
    "Each of `.rolling`, `.expanding`, and `.ewm` return a deferred object, similar to a GroupBy."
   ]
  },
  {
   "cell_type": "code",
   "execution_count": 18,
   "metadata": {},
   "outputs": [
    {
     "data": {
      "text/plain": [
       "Rolling [window=30,center=True,axis=0]"
      ]
     },
     "execution_count": 18,
     "metadata": {},
     "output_type": "execute_result"
    }
   ],
   "source": [
    "roll = ts1.rolling(30, center=True)\n",
    "roll"
   ]
  },
  {
   "cell_type": "code",
   "execution_count": 20,
   "metadata": {},
   "outputs": [
    {
     "data": {
      "text/plain": [
       "Text(92.625, 0.5, 'Flow (m3/s)')"
      ]
     },
     "execution_count": 20,
     "metadata": {},
     "output_type": "execute_result"
    },
    {
     "data": {
      "image/png": "[encoded data removed]",
      "text/plain": [
       "<Figure size 1008x432 with 1 Axes>"
      ]
     },
     "metadata": {
      "needs_background": "light"
     },
     "output_type": "display_data"
    }
   ],
   "source": [
    "m = roll.agg(['mean', 'std'])\n",
    "ax = m['mean'].plot(figsize=(14, 6))\n",
    "ax.fill_between(m.index, m['mean'] - m['std'], m['mean'] + m['std'],\n",
    "                alpha=.25)\n",
    "plt.tight_layout()\n",
    "plt.ylabel(\"Flow (m3/s)\")"
   ]
  },
  {
   "cell_type": "markdown",
   "metadata": {},
   "source": [
    "## Grab Bag\n",
    "\n",
    "### Offsets\n",
    "\n",
    "These are similar to `dateutil.relativedelta`, but works with arrays."
   ]
  },
  {
   "cell_type": "code",
   "execution_count": 21,
   "metadata": {},
   "outputs": [
    {
     "data": {
      "text/plain": [
       "DatetimeIndex(['1980-09-29', '1980-09-30', '1980-10-01', '1980-10-02',\n",
       "               '1980-10-03', '1980-10-04', '1980-10-05', '1980-10-06',\n",
       "               '1980-10-07', '1980-10-08',\n",
       "               ...\n",
       "               '2017-09-19', '2017-09-20', '2017-09-21', '2017-09-22',\n",
       "               '2017-09-23', '2017-09-24', '2017-09-25', '2017-09-26',\n",
       "               '2017-09-27', '2017-09-28'],\n",
       "              dtype='datetime64[ns]', name='Date', length=13514, freq=None)"
      ]
     },
     "execution_count": 21,
     "metadata": {},
     "output_type": "execute_result"
    }
   ],
   "source": [
    "ts.index + pd.DateOffset(months=3, days=-2)"
   ]
  },
  {
   "cell_type": "markdown",
   "metadata": {},
   "source": [
    "### Holiday Calendars\n",
    "\n",
    "There are a whole bunch of special calendars, useful for traders probabaly."
   ]
  },
  {
   "cell_type": "code",
   "execution_count": 29,
   "metadata": {},
   "outputs": [],
   "source": [
    "from pandas.tseries.holiday import USColumbusDay"
   ]
  },
  {
   "cell_type": "code",
   "execution_count": 30,
   "metadata": {},
   "outputs": [
    {
     "data": {
      "text/plain": [
       "DatetimeIndex(['2015-10-12', '2016-10-10', '2017-10-09', '2018-10-08',\n",
       "               '2019-10-14'],\n",
       "              dtype='datetime64[ns]', freq='WOM-2MON')"
      ]
     },
     "execution_count": 30,
     "metadata": {},
     "output_type": "execute_result"
    }
   ],
   "source": [
    "USColumbusDay.dates('2015-01-01', '2020-01-01')"
   ]
  },
  {
   "cell_type": "markdown",
   "metadata": {},
   "source": [
    "### Timezones\n",
    "\n",
    "Pandas works with `pytz` for nice timezone-aware datetimes.\n",
    "The typical workflow is\n",
    "\n",
    "1. localize timezone-naive timestamps to some timezone\n",
    "2. convert to desired timezone\n",
    "\n",
    "If you already have timezone-aware Timestamps, there's no need for step one. "
   ]
  },
  {
   "cell_type": "code",
   "execution_count": 23,
   "metadata": {},
   "outputs": [
    {
     "data": {
      "text/html": [
       "<div>\n",
       "<style scoped>\n",
       "    .dataframe tbody tr th:only-of-type {\n",
       "        vertical-align: middle;\n",
       "    }\n",
       "\n",
       "    .dataframe tbody tr th {\n",
       "        vertical-align: top;\n",
       "    }\n",
       "\n",
       "    .dataframe thead th {\n",
       "        text-align: right;\n",
       "    }\n",
       "</style>\n",
       "<table border=\"1\" class=\"dataframe\">\n",
       "  <thead>\n",
       "    <tr style=\"text-align: right;\">\n",
       "      <th></th>\n",
       "      <th>69614</th>\n",
       "      <th>69618</th>\n",
       "      <th>71104</th>\n",
       "    </tr>\n",
       "    <tr>\n",
       "      <th>Date</th>\n",
       "      <th></th>\n",
       "      <th></th>\n",
       "      <th></th>\n",
       "    </tr>\n",
       "  </thead>\n",
       "  <tbody>\n",
       "    <tr>\n",
       "      <th>1980-07-01 04:00:00+00:00</th>\n",
       "      <td>5.838</td>\n",
       "      <td>4.499</td>\n",
       "      <td>339.110</td>\n",
       "    </tr>\n",
       "    <tr>\n",
       "      <th>1980-07-02 04:00:00+00:00</th>\n",
       "      <td>7.340</td>\n",
       "      <td>4.726</td>\n",
       "      <td>356.320</td>\n",
       "    </tr>\n",
       "    <tr>\n",
       "      <th>1980-07-03 04:00:00+00:00</th>\n",
       "      <td>6.372</td>\n",
       "      <td>4.379</td>\n",
       "      <td>386.909</td>\n",
       "    </tr>\n",
       "    <tr>\n",
       "      <th>1980-07-04 04:00:00+00:00</th>\n",
       "      <td>5.852</td>\n",
       "      <td>4.228</td>\n",
       "      <td>413.347</td>\n",
       "    </tr>\n",
       "    <tr>\n",
       "      <th>1980-07-05 04:00:00+00:00</th>\n",
       "      <td>6.359</td>\n",
       "      <td>4.835</td>\n",
       "      <td>445.836</td>\n",
       "    </tr>\n",
       "  </tbody>\n",
       "</table>\n",
       "</div>"
      ],
      "text/plain": [
       "                           69614  69618    71104\n",
       "Date                                            \n",
       "1980-07-01 04:00:00+00:00  5.838  4.499  339.110\n",
       "1980-07-02 04:00:00+00:00  7.340  4.726  356.320\n",
       "1980-07-03 04:00:00+00:00  6.372  4.379  386.909\n",
       "1980-07-04 04:00:00+00:00  5.852  4.228  413.347\n",
       "1980-07-05 04:00:00+00:00  6.359  4.835  445.836"
      ]
     },
     "execution_count": 23,
     "metadata": {},
     "output_type": "execute_result"
    }
   ],
   "source": [
    "# tz naiive -> tz aware..... to desired UTC\n",
    "ts.tz_localize('US/Eastern').tz_convert('UTC').head()"
   ]
  },
  {
   "cell_type": "code",
   "execution_count": null,
   "metadata": {
    "collapsed": true
   },
   "outputs": [],
   "source": []
  }
 ],
 "metadata": {
  "kernelspec": {
   "display_name": "Python 3",
   "language": "python",
   "name": "python3"
  },
  "language_info": {
   "codemirror_mode": {
    "name": "ipython",
    "version": 3
   },
   "file_extension": ".py",
   "mimetype": "text/x-python",
   "name": "python",
   "nbconvert_exporter": "python",
   "pygments_lexer": "ipython3",
   "version": "3.6.7"
  }
 },
 "nbformat": 4,
 "nbformat_minor": 1
}
