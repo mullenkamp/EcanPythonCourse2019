{
 "cells": [
  {
   "cell_type": "markdown",
   "metadata": {},
   "source": [
    "# Timeseries\n",
    "\n",
    "This notebook is part of the course called [Effective Pandas](https://github.com/TomAugspurger/effective-pandas).\n",
    "\n",
    "Pandas started out in the financial world, so naturally it has strong timeseries support.\n",
    "\n"
   ]
  },
  {
   "cell_type": "code",
   "execution_count": 9,
   "metadata": {},
   "outputs": [],
   "source": [
    "%matplotlib inline\n",
    "\n",
    "import os\n",
    "import numpy as np\n",
    "import pandas as pd\n",
    "import matplotlib.pyplot as plt"
   ]
  },
  {
   "cell_type": "markdown",
   "metadata": {},
   "source": [
    "Let's grab some stock data for Goldman Sachs:"
   ]
  },
  {
   "cell_type": "code",
   "execution_count": 16,
   "metadata": {},
   "outputs": [
    {
     "data": {
      "text/html": [
       "<div>\n",
       "<style scoped>\n",
       "    .dataframe tbody tr th:only-of-type {\n",
       "        vertical-align: middle;\n",
       "    }\n",
       "\n",
       "    .dataframe tbody tr th {\n",
       "        vertical-align: top;\n",
       "    }\n",
       "\n",
       "    .dataframe thead th {\n",
       "        text-align: right;\n",
       "    }\n",
       "</style>\n",
       "<table border=\"1\" class=\"dataframe\">\n",
       "  <thead>\n",
       "    <tr style=\"text-align: right;\">\n",
       "      <th></th>\n",
       "      <th>Open</th>\n",
       "      <th>High</th>\n",
       "      <th>Low</th>\n",
       "      <th>Close</th>\n",
       "      <th>Adj Close</th>\n",
       "      <th>Volume</th>\n",
       "    </tr>\n",
       "    <tr>\n",
       "      <th>Date</th>\n",
       "      <th></th>\n",
       "      <th></th>\n",
       "      <th></th>\n",
       "      <th></th>\n",
       "      <th></th>\n",
       "      <th></th>\n",
       "    </tr>\n",
       "  </thead>\n",
       "  <tbody>\n",
       "    <tr>\n",
       "      <th>2006-01-03</th>\n",
       "      <td>126.70</td>\n",
       "      <td>129.44</td>\n",
       "      <td>124.23</td>\n",
       "      <td>128.87</td>\n",
       "      <td>110.91</td>\n",
       "      <td>6188700</td>\n",
       "    </tr>\n",
       "    <tr>\n",
       "      <th>2006-01-04</th>\n",
       "      <td>127.35</td>\n",
       "      <td>128.91</td>\n",
       "      <td>126.38</td>\n",
       "      <td>127.09</td>\n",
       "      <td>109.38</td>\n",
       "      <td>4861600</td>\n",
       "    </tr>\n",
       "    <tr>\n",
       "      <th>2006-01-05</th>\n",
       "      <td>126.00</td>\n",
       "      <td>127.32</td>\n",
       "      <td>125.61</td>\n",
       "      <td>127.04</td>\n",
       "      <td>109.34</td>\n",
       "      <td>3717400</td>\n",
       "    </tr>\n",
       "    <tr>\n",
       "      <th>2006-01-06</th>\n",
       "      <td>127.29</td>\n",
       "      <td>129.25</td>\n",
       "      <td>127.29</td>\n",
       "      <td>128.84</td>\n",
       "      <td>110.89</td>\n",
       "      <td>4319600</td>\n",
       "    </tr>\n",
       "    <tr>\n",
       "      <th>2006-01-09</th>\n",
       "      <td>128.50</td>\n",
       "      <td>130.62</td>\n",
       "      <td>128.00</td>\n",
       "      <td>130.39</td>\n",
       "      <td>112.22</td>\n",
       "      <td>4723500</td>\n",
       "    </tr>\n",
       "  </tbody>\n",
       "</table>\n",
       "</div>"
      ],
      "text/plain": [
       "              Open    High     Low   Close  Adj Close   Volume\n",
       "Date                                                          \n",
       "2006-01-03  126.70  129.44  124.23  128.87     110.91  6188700\n",
       "2006-01-04  127.35  128.91  126.38  127.09     109.38  4861600\n",
       "2006-01-05  126.00  127.32  125.61  127.04     109.34  3717400\n",
       "2006-01-06  127.29  129.25  127.29  128.84     110.89  4319600\n",
       "2006-01-09  128.50  130.62  128.00  130.39     112.22  4723500"
      ]
     },
     "execution_count": 16,
     "metadata": {},
     "output_type": "execute_result"
    }
   ],
   "source": [
    "gs = pd.read_csv('sample_data.csv', index_col=['Date'], parse_dates=True, infer_datetime_format=True)\n",
    "gs.head().round(2)"
   ]
  },
  {
   "cell_type": "markdown",
   "metadata": {},
   "source": [
    "There isn't a special data-container just for time series in pandas, they're just `Series` or `DataFrame`s with a `DatetimeIndex`."
   ]
  },
  {
   "cell_type": "markdown",
   "metadata": {},
   "source": [
    "## Special Slicing\n",
    "\n",
    "Looking at the elements of `gs.index`, we see that `DatetimeIndex`es are made up of `pandas.Timestamp`s:"
   ]
  },
  {
   "cell_type": "code",
   "execution_count": 17,
   "metadata": {},
   "outputs": [
    {
     "data": {
      "text/plain": [
       "Timestamp('2006-01-03 00:00:00')"
      ]
     },
     "execution_count": 17,
     "metadata": {},
     "output_type": "execute_result"
    }
   ],
   "source": [
    "gs.index[0]"
   ]
  },
  {
   "cell_type": "markdown",
   "metadata": {},
   "source": [
    "A `Timestamp` is mostly compatible with the `datetime.datetime` class, but much amenable to storage in arrays.\n",
    "\n",
    "Working with `Timestamp`s can be awkward, so Series and DataFrames with `DatetimeIndexes` have some special slicing rules.\n",
    "The first special case is *partial-string indexing*. Say we wanted to select all the days in 2006. Even with `Timestamp`'s convenient constructors, it's a pai"
   ]
  },
  {
   "cell_type": "code",
   "execution_count": 18,
   "metadata": {},
   "outputs": [
    {
     "data": {
      "text/html": [
       "<div>\n",
       "<style scoped>\n",
       "    .dataframe tbody tr th:only-of-type {\n",
       "        vertical-align: middle;\n",
       "    }\n",
       "\n",
       "    .dataframe tbody tr th {\n",
       "        vertical-align: top;\n",
       "    }\n",
       "\n",
       "    .dataframe thead th {\n",
       "        text-align: right;\n",
       "    }\n",
       "</style>\n",
       "<table border=\"1\" class=\"dataframe\">\n",
       "  <thead>\n",
       "    <tr style=\"text-align: right;\">\n",
       "      <th></th>\n",
       "      <th>Open</th>\n",
       "      <th>High</th>\n",
       "      <th>Low</th>\n",
       "      <th>Close</th>\n",
       "      <th>Adj Close</th>\n",
       "      <th>Volume</th>\n",
       "    </tr>\n",
       "    <tr>\n",
       "      <th>Date</th>\n",
       "      <th></th>\n",
       "      <th></th>\n",
       "      <th></th>\n",
       "      <th></th>\n",
       "      <th></th>\n",
       "      <th></th>\n",
       "    </tr>\n",
       "  </thead>\n",
       "  <tbody>\n",
       "    <tr>\n",
       "      <th>2006-01-03</th>\n",
       "      <td>126.699997</td>\n",
       "      <td>129.440002</td>\n",
       "      <td>124.230003</td>\n",
       "      <td>128.869995</td>\n",
       "      <td>110.911774</td>\n",
       "      <td>6188700</td>\n",
       "    </tr>\n",
       "    <tr>\n",
       "      <th>2006-01-04</th>\n",
       "      <td>127.349998</td>\n",
       "      <td>128.910004</td>\n",
       "      <td>126.379997</td>\n",
       "      <td>127.089996</td>\n",
       "      <td>109.379845</td>\n",
       "      <td>4861600</td>\n",
       "    </tr>\n",
       "    <tr>\n",
       "      <th>2006-01-05</th>\n",
       "      <td>126.000000</td>\n",
       "      <td>127.320000</td>\n",
       "      <td>125.610001</td>\n",
       "      <td>127.040001</td>\n",
       "      <td>109.336800</td>\n",
       "      <td>3717400</td>\n",
       "    </tr>\n",
       "    <tr>\n",
       "      <th>2006-01-06</th>\n",
       "      <td>127.290001</td>\n",
       "      <td>129.250000</td>\n",
       "      <td>127.290001</td>\n",
       "      <td>128.839996</td>\n",
       "      <td>110.885956</td>\n",
       "      <td>4319600</td>\n",
       "    </tr>\n",
       "    <tr>\n",
       "      <th>2006-01-09</th>\n",
       "      <td>128.500000</td>\n",
       "      <td>130.619995</td>\n",
       "      <td>128.000000</td>\n",
       "      <td>130.389999</td>\n",
       "      <td>112.219994</td>\n",
       "      <td>4723500</td>\n",
       "    </tr>\n",
       "  </tbody>\n",
       "</table>\n",
       "</div>"
      ],
      "text/plain": [
       "                  Open        High         Low       Close   Adj Close  \\\n",
       "Date                                                                     \n",
       "2006-01-03  126.699997  129.440002  124.230003  128.869995  110.911774   \n",
       "2006-01-04  127.349998  128.910004  126.379997  127.089996  109.379845   \n",
       "2006-01-05  126.000000  127.320000  125.610001  127.040001  109.336800   \n",
       "2006-01-06  127.290001  129.250000  127.290001  128.839996  110.885956   \n",
       "2006-01-09  128.500000  130.619995  128.000000  130.389999  112.219994   \n",
       "\n",
       "             Volume  \n",
       "Date                 \n",
       "2006-01-03  6188700  \n",
       "2006-01-04  4861600  \n",
       "2006-01-05  3717400  \n",
       "2006-01-06  4319600  \n",
       "2006-01-09  4723500  "
      ]
     },
     "execution_count": 18,
     "metadata": {},
     "output_type": "execute_result"
    }
   ],
   "source": [
    "gs.loc[pd.Timestamp('2006-01-01'):pd.Timestamp('2006-12-31')].head()"
   ]
  },
  {
   "cell_type": "markdown",
   "metadata": {},
   "source": [
    "Thanks to partial-string indexing, it's as simple as"
   ]
  },
  {
   "cell_type": "code",
   "execution_count": 19,
   "metadata": {},
   "outputs": [
    {
     "data": {
      "text/html": [
       "<div>\n",
       "<style scoped>\n",
       "    .dataframe tbody tr th:only-of-type {\n",
       "        vertical-align: middle;\n",
       "    }\n",
       "\n",
       "    .dataframe tbody tr th {\n",
       "        vertical-align: top;\n",
       "    }\n",
       "\n",
       "    .dataframe thead th {\n",
       "        text-align: right;\n",
       "    }\n",
       "</style>\n",
       "<table border=\"1\" class=\"dataframe\">\n",
       "  <thead>\n",
       "    <tr style=\"text-align: right;\">\n",
       "      <th></th>\n",
       "      <th>Open</th>\n",
       "      <th>High</th>\n",
       "      <th>Low</th>\n",
       "      <th>Close</th>\n",
       "      <th>Adj Close</th>\n",
       "      <th>Volume</th>\n",
       "    </tr>\n",
       "    <tr>\n",
       "      <th>Date</th>\n",
       "      <th></th>\n",
       "      <th></th>\n",
       "      <th></th>\n",
       "      <th></th>\n",
       "      <th></th>\n",
       "      <th></th>\n",
       "    </tr>\n",
       "  </thead>\n",
       "  <tbody>\n",
       "    <tr>\n",
       "      <th>2006-01-03</th>\n",
       "      <td>126.699997</td>\n",
       "      <td>129.440002</td>\n",
       "      <td>124.230003</td>\n",
       "      <td>128.869995</td>\n",
       "      <td>110.911774</td>\n",
       "      <td>6188700</td>\n",
       "    </tr>\n",
       "    <tr>\n",
       "      <th>2006-01-04</th>\n",
       "      <td>127.349998</td>\n",
       "      <td>128.910004</td>\n",
       "      <td>126.379997</td>\n",
       "      <td>127.089996</td>\n",
       "      <td>109.379845</td>\n",
       "      <td>4861600</td>\n",
       "    </tr>\n",
       "    <tr>\n",
       "      <th>2006-01-05</th>\n",
       "      <td>126.000000</td>\n",
       "      <td>127.320000</td>\n",
       "      <td>125.610001</td>\n",
       "      <td>127.040001</td>\n",
       "      <td>109.336800</td>\n",
       "      <td>3717400</td>\n",
       "    </tr>\n",
       "    <tr>\n",
       "      <th>2006-01-06</th>\n",
       "      <td>127.290001</td>\n",
       "      <td>129.250000</td>\n",
       "      <td>127.290001</td>\n",
       "      <td>128.839996</td>\n",
       "      <td>110.885956</td>\n",
       "      <td>4319600</td>\n",
       "    </tr>\n",
       "    <tr>\n",
       "      <th>2006-01-09</th>\n",
       "      <td>128.500000</td>\n",
       "      <td>130.619995</td>\n",
       "      <td>128.000000</td>\n",
       "      <td>130.389999</td>\n",
       "      <td>112.219994</td>\n",
       "      <td>4723500</td>\n",
       "    </tr>\n",
       "  </tbody>\n",
       "</table>\n",
       "</div>"
      ],
      "text/plain": [
       "                  Open        High         Low       Close   Adj Close  \\\n",
       "Date                                                                     \n",
       "2006-01-03  126.699997  129.440002  124.230003  128.869995  110.911774   \n",
       "2006-01-04  127.349998  128.910004  126.379997  127.089996  109.379845   \n",
       "2006-01-05  126.000000  127.320000  125.610001  127.040001  109.336800   \n",
       "2006-01-06  127.290001  129.250000  127.290001  128.839996  110.885956   \n",
       "2006-01-09  128.500000  130.619995  128.000000  130.389999  112.219994   \n",
       "\n",
       "             Volume  \n",
       "Date                 \n",
       "2006-01-03  6188700  \n",
       "2006-01-04  4861600  \n",
       "2006-01-05  3717400  \n",
       "2006-01-06  4319600  \n",
       "2006-01-09  4723500  "
      ]
     },
     "execution_count": 19,
     "metadata": {},
     "output_type": "execute_result"
    }
   ],
   "source": [
    "gs.loc['2006'].head()"
   ]
  },
  {
   "cell_type": "markdown",
   "metadata": {},
   "source": [
    "Since label slicing is inclusive, this slice selects any observation where the year is 2006."
   ]
  },
  {
   "cell_type": "markdown",
   "metadata": {},
   "source": [
    "The second \"convenience\" is `__getitem__` (square-bracket) fall-back indexing. I'm only going to mention it here, with the caveat that you should never use it.\n",
    "DataFrame `__getitem__` typically looks in the column: `gs['2006']` would search `gs.columns` for `'2006'`, not find it, and raise a `KeyError`. But DataFrames with a `DatetimeIndex` catch that `KeyError` and try to slice the index.\n",
    "If it succeeds in slicing the index, the result like `gs.loc['2006']` is returned.\n",
    "If it fails, the `KeyError` is re-raised.\n",
    "This is confusing because in pretty much every other case `DataFrame.__getitem__` works on columns, and it's fragile because if you happened to have a column `'2006'` you *would* get just that column, and no fall-back indexing would occur. Just use `gs.loc['2006']` when slicing DataFrame indexes.\n"
   ]
  },
  {
   "cell_type": "markdown",
   "metadata": {},
   "source": [
    "## Special Methods"
   ]
  },
  {
   "cell_type": "markdown",
   "metadata": {},
   "source": [
    "### Resampling"
   ]
  },
  {
   "cell_type": "markdown",
   "metadata": {},
   "source": [
    "Resampling is similar to a `groupby`: you split the time series into groups (5-day buckets below), apply a function to each group (`mean`), and combine the result (one row per group)."
   ]
  },
  {
   "cell_type": "code",
   "execution_count": 20,
   "metadata": {},
   "outputs": [
    {
     "data": {
      "text/html": [
       "<div>\n",
       "<style scoped>\n",
       "    .dataframe tbody tr th:only-of-type {\n",
       "        vertical-align: middle;\n",
       "    }\n",
       "\n",
       "    .dataframe tbody tr th {\n",
       "        vertical-align: top;\n",
       "    }\n",
       "\n",
       "    .dataframe thead th {\n",
       "        text-align: right;\n",
       "    }\n",
       "</style>\n",
       "<table border=\"1\" class=\"dataframe\">\n",
       "  <thead>\n",
       "    <tr style=\"text-align: right;\">\n",
       "      <th></th>\n",
       "      <th>Open</th>\n",
       "      <th>High</th>\n",
       "      <th>Low</th>\n",
       "      <th>Close</th>\n",
       "      <th>Adj Close</th>\n",
       "      <th>Volume</th>\n",
       "    </tr>\n",
       "    <tr>\n",
       "      <th>Date</th>\n",
       "      <th></th>\n",
       "      <th></th>\n",
       "      <th></th>\n",
       "      <th></th>\n",
       "      <th></th>\n",
       "      <th></th>\n",
       "    </tr>\n",
       "  </thead>\n",
       "  <tbody>\n",
       "    <tr>\n",
       "      <th>2006-01-03</th>\n",
       "      <td>126.834999</td>\n",
       "      <td>128.730002</td>\n",
       "      <td>125.877501</td>\n",
       "      <td>127.959997</td>\n",
       "      <td>110.128594</td>\n",
       "      <td>4.771825e+06</td>\n",
       "    </tr>\n",
       "    <tr>\n",
       "      <th>2006-01-08</th>\n",
       "      <td>130.349998</td>\n",
       "      <td>132.645000</td>\n",
       "      <td>130.205002</td>\n",
       "      <td>131.660000</td>\n",
       "      <td>113.313015</td>\n",
       "      <td>4.664300e+06</td>\n",
       "    </tr>\n",
       "    <tr>\n",
       "      <th>2006-01-13</th>\n",
       "      <td>131.510002</td>\n",
       "      <td>133.395004</td>\n",
       "      <td>131.244995</td>\n",
       "      <td>132.924996</td>\n",
       "      <td>114.401707</td>\n",
       "      <td>3.258250e+06</td>\n",
       "    </tr>\n",
       "    <tr>\n",
       "      <th>2006-01-18</th>\n",
       "      <td>132.210002</td>\n",
       "      <td>133.853333</td>\n",
       "      <td>131.656667</td>\n",
       "      <td>132.543335</td>\n",
       "      <td>114.143812</td>\n",
       "      <td>4.997767e+06</td>\n",
       "    </tr>\n",
       "    <tr>\n",
       "      <th>2006-01-23</th>\n",
       "      <td>133.771997</td>\n",
       "      <td>136.083997</td>\n",
       "      <td>133.310001</td>\n",
       "      <td>135.153998</td>\n",
       "      <td>116.537834</td>\n",
       "      <td>3.968500e+06</td>\n",
       "    </tr>\n",
       "  </tbody>\n",
       "</table>\n",
       "</div>"
      ],
      "text/plain": [
       "                  Open        High         Low       Close   Adj Close  \\\n",
       "Date                                                                     \n",
       "2006-01-03  126.834999  128.730002  125.877501  127.959997  110.128594   \n",
       "2006-01-08  130.349998  132.645000  130.205002  131.660000  113.313015   \n",
       "2006-01-13  131.510002  133.395004  131.244995  132.924996  114.401707   \n",
       "2006-01-18  132.210002  133.853333  131.656667  132.543335  114.143812   \n",
       "2006-01-23  133.771997  136.083997  133.310001  135.153998  116.537834   \n",
       "\n",
       "                  Volume  \n",
       "Date                      \n",
       "2006-01-03  4.771825e+06  \n",
       "2006-01-08  4.664300e+06  \n",
       "2006-01-13  3.258250e+06  \n",
       "2006-01-18  4.997767e+06  \n",
       "2006-01-23  3.968500e+06  "
      ]
     },
     "execution_count": 20,
     "metadata": {},
     "output_type": "execute_result"
    }
   ],
   "source": [
    "gs.resample(\"5d\").mean().head()"
   ]
  },
  {
   "cell_type": "code",
   "execution_count": 21,
   "metadata": {},
   "outputs": [
    {
     "data": {
      "text/html": [
       "<div>\n",
       "<style scoped>\n",
       "    .dataframe tbody tr th:only-of-type {\n",
       "        vertical-align: middle;\n",
       "    }\n",
       "\n",
       "    .dataframe tbody tr th {\n",
       "        vertical-align: top;\n",
       "    }\n",
       "\n",
       "    .dataframe thead tr th {\n",
       "        text-align: left;\n",
       "    }\n",
       "\n",
       "    .dataframe thead tr:last-of-type th {\n",
       "        text-align: right;\n",
       "    }\n",
       "</style>\n",
       "<table border=\"1\" class=\"dataframe\">\n",
       "  <thead>\n",
       "    <tr>\n",
       "      <th></th>\n",
       "      <th colspan=\"2\" halign=\"left\">Open</th>\n",
       "      <th colspan=\"2\" halign=\"left\">High</th>\n",
       "      <th colspan=\"2\" halign=\"left\">Low</th>\n",
       "      <th colspan=\"2\" halign=\"left\">Close</th>\n",
       "      <th colspan=\"2\" halign=\"left\">Adj Close</th>\n",
       "      <th colspan=\"2\" halign=\"left\">Volume</th>\n",
       "    </tr>\n",
       "    <tr>\n",
       "      <th></th>\n",
       "      <th>mean</th>\n",
       "      <th>sum</th>\n",
       "      <th>mean</th>\n",
       "      <th>sum</th>\n",
       "      <th>mean</th>\n",
       "      <th>sum</th>\n",
       "      <th>mean</th>\n",
       "      <th>sum</th>\n",
       "      <th>mean</th>\n",
       "      <th>sum</th>\n",
       "      <th>mean</th>\n",
       "      <th>sum</th>\n",
       "    </tr>\n",
       "    <tr>\n",
       "      <th>Date</th>\n",
       "      <th></th>\n",
       "      <th></th>\n",
       "      <th></th>\n",
       "      <th></th>\n",
       "      <th></th>\n",
       "      <th></th>\n",
       "      <th></th>\n",
       "      <th></th>\n",
       "      <th></th>\n",
       "      <th></th>\n",
       "      <th></th>\n",
       "      <th></th>\n",
       "    </tr>\n",
       "  </thead>\n",
       "  <tbody>\n",
       "    <tr>\n",
       "      <th>2006-01-08</th>\n",
       "      <td>126.834999</td>\n",
       "      <td>507.339996</td>\n",
       "      <td>128.730002</td>\n",
       "      <td>514.920006</td>\n",
       "      <td>125.877501</td>\n",
       "      <td>503.510002</td>\n",
       "      <td>127.959997</td>\n",
       "      <td>511.839988</td>\n",
       "      <td>110.128594</td>\n",
       "      <td>440.514375</td>\n",
       "      <td>4771825.0</td>\n",
       "      <td>19087300</td>\n",
       "    </tr>\n",
       "    <tr>\n",
       "      <th>2006-01-15</th>\n",
       "      <td>130.684000</td>\n",
       "      <td>653.419998</td>\n",
       "      <td>132.848001</td>\n",
       "      <td>664.240006</td>\n",
       "      <td>130.544000</td>\n",
       "      <td>652.720001</td>\n",
       "      <td>131.979999</td>\n",
       "      <td>659.899994</td>\n",
       "      <td>113.588417</td>\n",
       "      <td>567.942086</td>\n",
       "      <td>4310420.0</td>\n",
       "      <td>21552100</td>\n",
       "    </tr>\n",
       "    <tr>\n",
       "      <th>2006-01-22</th>\n",
       "      <td>131.907501</td>\n",
       "      <td>527.630005</td>\n",
       "      <td>133.672501</td>\n",
       "      <td>534.690003</td>\n",
       "      <td>131.390000</td>\n",
       "      <td>525.559998</td>\n",
       "      <td>132.555000</td>\n",
       "      <td>530.220000</td>\n",
       "      <td>114.136206</td>\n",
       "      <td>456.544823</td>\n",
       "      <td>4653725.0</td>\n",
       "      <td>18614900</td>\n",
       "    </tr>\n",
       "    <tr>\n",
       "      <th>2006-01-29</th>\n",
       "      <td>133.771997</td>\n",
       "      <td>668.859986</td>\n",
       "      <td>136.083997</td>\n",
       "      <td>680.419983</td>\n",
       "      <td>133.310001</td>\n",
       "      <td>666.550003</td>\n",
       "      <td>135.153998</td>\n",
       "      <td>675.769989</td>\n",
       "      <td>116.537834</td>\n",
       "      <td>582.689171</td>\n",
       "      <td>3968500.0</td>\n",
       "      <td>19842500</td>\n",
       "    </tr>\n",
       "    <tr>\n",
       "      <th>2006-02-05</th>\n",
       "      <td>140.900000</td>\n",
       "      <td>704.500000</td>\n",
       "      <td>142.467999</td>\n",
       "      <td>712.339996</td>\n",
       "      <td>139.937998</td>\n",
       "      <td>699.689988</td>\n",
       "      <td>141.618002</td>\n",
       "      <td>708.090011</td>\n",
       "      <td>122.111458</td>\n",
       "      <td>610.557289</td>\n",
       "      <td>3920120.0</td>\n",
       "      <td>19600600</td>\n",
       "    </tr>\n",
       "  </tbody>\n",
       "</table>\n",
       "</div>"
      ],
      "text/plain": [
       "                  Open                    High                     Low  \\\n",
       "                  mean         sum        mean         sum        mean   \n",
       "Date                                                                     \n",
       "2006-01-08  126.834999  507.339996  128.730002  514.920006  125.877501   \n",
       "2006-01-15  130.684000  653.419998  132.848001  664.240006  130.544000   \n",
       "2006-01-22  131.907501  527.630005  133.672501  534.690003  131.390000   \n",
       "2006-01-29  133.771997  668.859986  136.083997  680.419983  133.310001   \n",
       "2006-02-05  140.900000  704.500000  142.467999  712.339996  139.937998   \n",
       "\n",
       "                             Close               Adj Close              \\\n",
       "                   sum        mean         sum        mean         sum   \n",
       "Date                                                                     \n",
       "2006-01-08  503.510002  127.959997  511.839988  110.128594  440.514375   \n",
       "2006-01-15  652.720001  131.979999  659.899994  113.588417  567.942086   \n",
       "2006-01-22  525.559998  132.555000  530.220000  114.136206  456.544823   \n",
       "2006-01-29  666.550003  135.153998  675.769989  116.537834  582.689171   \n",
       "2006-02-05  699.689988  141.618002  708.090011  122.111458  610.557289   \n",
       "\n",
       "               Volume            \n",
       "                 mean       sum  \n",
       "Date                             \n",
       "2006-01-08  4771825.0  19087300  \n",
       "2006-01-15  4310420.0  21552100  \n",
       "2006-01-22  4653725.0  18614900  \n",
       "2006-01-29  3968500.0  19842500  \n",
       "2006-02-05  3920120.0  19600600  "
      ]
     },
     "execution_count": 21,
     "metadata": {},
     "output_type": "execute_result"
    }
   ],
   "source": [
    "gs.resample(\"W\").agg(['mean', 'sum']).head()"
   ]
  },
  {
   "cell_type": "markdown",
   "metadata": {},
   "source": [
    "You can up-sample to convert to a higher frequency.\n",
    "The new points are filled with NaNs."
   ]
  },
  {
   "cell_type": "code",
   "execution_count": 22,
   "metadata": {},
   "outputs": [
    {
     "data": {
      "text/html": [
       "<div>\n",
       "<style scoped>\n",
       "    .dataframe tbody tr th:only-of-type {\n",
       "        vertical-align: middle;\n",
       "    }\n",
       "\n",
       "    .dataframe tbody tr th {\n",
       "        vertical-align: top;\n",
       "    }\n",
       "\n",
       "    .dataframe thead th {\n",
       "        text-align: right;\n",
       "    }\n",
       "</style>\n",
       "<table border=\"1\" class=\"dataframe\">\n",
       "  <thead>\n",
       "    <tr style=\"text-align: right;\">\n",
       "      <th></th>\n",
       "      <th>Open</th>\n",
       "      <th>High</th>\n",
       "      <th>Low</th>\n",
       "      <th>Close</th>\n",
       "      <th>Adj Close</th>\n",
       "      <th>Volume</th>\n",
       "    </tr>\n",
       "    <tr>\n",
       "      <th>Date</th>\n",
       "      <th></th>\n",
       "      <th></th>\n",
       "      <th></th>\n",
       "      <th></th>\n",
       "      <th></th>\n",
       "      <th></th>\n",
       "    </tr>\n",
       "  </thead>\n",
       "  <tbody>\n",
       "    <tr>\n",
       "      <th>2006-01-03 00:00:00</th>\n",
       "      <td>126.699997</td>\n",
       "      <td>129.440002</td>\n",
       "      <td>124.230003</td>\n",
       "      <td>128.869995</td>\n",
       "      <td>110.911774</td>\n",
       "      <td>6188700.0</td>\n",
       "    </tr>\n",
       "    <tr>\n",
       "      <th>2006-01-03 06:00:00</th>\n",
       "      <td>NaN</td>\n",
       "      <td>NaN</td>\n",
       "      <td>NaN</td>\n",
       "      <td>NaN</td>\n",
       "      <td>NaN</td>\n",
       "      <td>NaN</td>\n",
       "    </tr>\n",
       "    <tr>\n",
       "      <th>2006-01-03 12:00:00</th>\n",
       "      <td>NaN</td>\n",
       "      <td>NaN</td>\n",
       "      <td>NaN</td>\n",
       "      <td>NaN</td>\n",
       "      <td>NaN</td>\n",
       "      <td>NaN</td>\n",
       "    </tr>\n",
       "    <tr>\n",
       "      <th>2006-01-03 18:00:00</th>\n",
       "      <td>NaN</td>\n",
       "      <td>NaN</td>\n",
       "      <td>NaN</td>\n",
       "      <td>NaN</td>\n",
       "      <td>NaN</td>\n",
       "      <td>NaN</td>\n",
       "    </tr>\n",
       "    <tr>\n",
       "      <th>2006-01-04 00:00:00</th>\n",
       "      <td>127.349998</td>\n",
       "      <td>128.910004</td>\n",
       "      <td>126.379997</td>\n",
       "      <td>127.089996</td>\n",
       "      <td>109.379845</td>\n",
       "      <td>4861600.0</td>\n",
       "    </tr>\n",
       "  </tbody>\n",
       "</table>\n",
       "</div>"
      ],
      "text/plain": [
       "                           Open        High         Low       Close  \\\n",
       "Date                                                                  \n",
       "2006-01-03 00:00:00  126.699997  129.440002  124.230003  128.869995   \n",
       "2006-01-03 06:00:00         NaN         NaN         NaN         NaN   \n",
       "2006-01-03 12:00:00         NaN         NaN         NaN         NaN   \n",
       "2006-01-03 18:00:00         NaN         NaN         NaN         NaN   \n",
       "2006-01-04 00:00:00  127.349998  128.910004  126.379997  127.089996   \n",
       "\n",
       "                      Adj Close     Volume  \n",
       "Date                                        \n",
       "2006-01-03 00:00:00  110.911774  6188700.0  \n",
       "2006-01-03 06:00:00         NaN        NaN  \n",
       "2006-01-03 12:00:00         NaN        NaN  \n",
       "2006-01-03 18:00:00         NaN        NaN  \n",
       "2006-01-04 00:00:00  109.379845  4861600.0  "
      ]
     },
     "execution_count": 22,
     "metadata": {},
     "output_type": "execute_result"
    }
   ],
   "source": [
    "gs.resample(\"6H\").mean().head()"
   ]
  },
  {
   "cell_type": "markdown",
   "metadata": {},
   "source": [
    "### Rolling / Expanding / EW"
   ]
  },
  {
   "cell_type": "markdown",
   "metadata": {},
   "source": [
    "These methods aren't unique to `DatetimeIndex`es, but they often make sense with time series, so I'll show them here."
   ]
  },
  {
   "cell_type": "code",
   "execution_count": 25,
   "metadata": {},
   "outputs": [
    {
     "data": {
      "text/plain": [
       "Text(95.875,0.5,'Close ($)')"
      ]
     },
     "execution_count": 25,
     "metadata": {},
     "output_type": "execute_result"
    },
    {
     "data": {
      "image/png": "[encoded data removed]",
      "text/plain": [
       "<Figure size 1008x432 with 1 Axes>"
      ]
     },
     "metadata": {
      "needs_background": "light"
     },
     "output_type": "display_data"
    }
   ],
   "source": [
    "gs.Close.plot(label='Raw', figsize=(14, 6))\n",
    "gs.Close.rolling(28).mean().plot(label='28D MA')\n",
    "gs.Close.expanding().mean().plot(label='Expanding Average')\n",
    "gs.Close.ewm(alpha=0.03).mean().plot(label='EWMA($\\\\alpha=.03$)')\n",
    "\n",
    "plt.legend(bbox_to_anchor=(1.25, .5))\n",
    "plt.tight_layout()\n",
    "plt.ylabel(\"Close ($)\")"
   ]
  },
  {
   "cell_type": "markdown",
   "metadata": {},
   "source": [
    "Each of `.rolling`, `.expanding`, and `.ewm` return a deferred object, similar to a GroupBy."
   ]
  },
  {
   "cell_type": "code",
   "execution_count": 26,
   "metadata": {},
   "outputs": [
    {
     "data": {
      "text/plain": [
       "Rolling [window=30,center=True,axis=0]"
      ]
     },
     "execution_count": 26,
     "metadata": {},
     "output_type": "execute_result"
    }
   ],
   "source": [
    "roll = gs.Close.rolling(30, center=True)\n",
    "roll"
   ]
  },
  {
   "cell_type": "code",
   "execution_count": 27,
   "metadata": {},
   "outputs": [
    {
     "data": {
      "text/plain": [
       "Text(95.875,0.5,'Close ($)')"
      ]
     },
     "execution_count": 27,
     "metadata": {},
     "output_type": "execute_result"
    },
    {
     "data": {
      "image/png": "[encoded data removed]",
      "text/plain": [
       "<Figure size 1008x432 with 1 Axes>"
      ]
     },
     "metadata": {
      "needs_background": "light"
     },
     "output_type": "display_data"
    }
   ],
   "source": [
    "m = roll.agg(['mean', 'std'])\n",
    "ax = m['mean'].plot(figsize=(14, 6))\n",
    "ax.fill_between(m.index, m['mean'] - m['std'], m['mean'] + m['std'],\n",
    "                alpha=.25)\n",
    "plt.tight_layout()\n",
    "plt.ylabel(\"Close ($)\")"
   ]
  },
  {
   "cell_type": "markdown",
   "metadata": {},
   "source": [
    "## Grab Bag\n",
    "\n",
    "### Offsets\n",
    "\n",
    "These are similar to `dateutil.relativedelta`, but works with arrays."
   ]
  },
  {
   "cell_type": "code",
   "execution_count": 28,
   "metadata": {},
   "outputs": [
    {
     "data": {
      "text/plain": [
       "DatetimeIndex(['2006-04-01', '2006-04-02', '2006-04-03', '2006-04-04',\n",
       "               '2006-04-07', '2006-04-08', '2006-04-09', '2006-04-10',\n",
       "               '2006-04-11', '2006-04-15',\n",
       "               ...\n",
       "               '2010-03-15', '2010-03-16', '2010-03-19', '2010-03-20',\n",
       "               '2010-03-21', '2010-03-22', '2010-03-26', '2010-03-27',\n",
       "               '2010-03-28', '2010-03-29'],\n",
       "              dtype='datetime64[ns]', name='Date', length=1007, freq=None)"
      ]
     },
     "execution_count": 28,
     "metadata": {},
     "output_type": "execute_result"
    }
   ],
   "source": [
    "gs.index + pd.DateOffset(months=3, days=-2)"
   ]
  },
  {
   "cell_type": "markdown",
   "metadata": {},
   "source": [
    "### Holiday Calendars\n",
    "\n",
    "There are a whole bunch of special calendars, useful for traders probabaly."
   ]
  },
  {
   "cell_type": "code",
   "execution_count": 29,
   "metadata": {},
   "outputs": [],
   "source": [
    "from pandas.tseries.holiday import USColumbusDay"
   ]
  },
  {
   "cell_type": "code",
   "execution_count": 30,
   "metadata": {},
   "outputs": [
    {
     "data": {
      "text/plain": [
       "DatetimeIndex(['2015-10-12', '2016-10-10', '2017-10-09', '2018-10-08',\n",
       "               '2019-10-14'],\n",
       "              dtype='datetime64[ns]', freq='WOM-2MON')"
      ]
     },
     "execution_count": 30,
     "metadata": {},
     "output_type": "execute_result"
    }
   ],
   "source": [
    "USColumbusDay.dates('2015-01-01', '2020-01-01')"
   ]
  },
  {
   "cell_type": "markdown",
   "metadata": {},
   "source": [
    "### Timezones\n",
    "\n",
    "Pandas works with `pytz` for nice timezone-aware datetimes.\n",
    "The typical workflow is\n",
    "\n",
    "1. localize timezone-naive timestamps to some timezone\n",
    "2. convert to desired timezone\n",
    "\n",
    "If you already have timezone-aware Timestamps, there's no need for step one. "
   ]
  },
  {
   "cell_type": "code",
   "execution_count": 31,
   "metadata": {},
   "outputs": [
    {
     "data": {
      "text/html": [
       "<div>\n",
       "<style scoped>\n",
       "    .dataframe tbody tr th:only-of-type {\n",
       "        vertical-align: middle;\n",
       "    }\n",
       "\n",
       "    .dataframe tbody tr th {\n",
       "        vertical-align: top;\n",
       "    }\n",
       "\n",
       "    .dataframe thead th {\n",
       "        text-align: right;\n",
       "    }\n",
       "</style>\n",
       "<table border=\"1\" class=\"dataframe\">\n",
       "  <thead>\n",
       "    <tr style=\"text-align: right;\">\n",
       "      <th></th>\n",
       "      <th>Open</th>\n",
       "      <th>High</th>\n",
       "      <th>Low</th>\n",
       "      <th>Close</th>\n",
       "      <th>Adj Close</th>\n",
       "      <th>Volume</th>\n",
       "    </tr>\n",
       "    <tr>\n",
       "      <th>Date</th>\n",
       "      <th></th>\n",
       "      <th></th>\n",
       "      <th></th>\n",
       "      <th></th>\n",
       "      <th></th>\n",
       "      <th></th>\n",
       "    </tr>\n",
       "  </thead>\n",
       "  <tbody>\n",
       "    <tr>\n",
       "      <th>2006-01-03 05:00:00+00:00</th>\n",
       "      <td>126.699997</td>\n",
       "      <td>129.440002</td>\n",
       "      <td>124.230003</td>\n",
       "      <td>128.869995</td>\n",
       "      <td>110.911774</td>\n",
       "      <td>6188700</td>\n",
       "    </tr>\n",
       "    <tr>\n",
       "      <th>2006-01-04 05:00:00+00:00</th>\n",
       "      <td>127.349998</td>\n",
       "      <td>128.910004</td>\n",
       "      <td>126.379997</td>\n",
       "      <td>127.089996</td>\n",
       "      <td>109.379845</td>\n",
       "      <td>4861600</td>\n",
       "    </tr>\n",
       "    <tr>\n",
       "      <th>2006-01-05 05:00:00+00:00</th>\n",
       "      <td>126.000000</td>\n",
       "      <td>127.320000</td>\n",
       "      <td>125.610001</td>\n",
       "      <td>127.040001</td>\n",
       "      <td>109.336800</td>\n",
       "      <td>3717400</td>\n",
       "    </tr>\n",
       "    <tr>\n",
       "      <th>2006-01-06 05:00:00+00:00</th>\n",
       "      <td>127.290001</td>\n",
       "      <td>129.250000</td>\n",
       "      <td>127.290001</td>\n",
       "      <td>128.839996</td>\n",
       "      <td>110.885956</td>\n",
       "      <td>4319600</td>\n",
       "    </tr>\n",
       "    <tr>\n",
       "      <th>2006-01-09 05:00:00+00:00</th>\n",
       "      <td>128.500000</td>\n",
       "      <td>130.619995</td>\n",
       "      <td>128.000000</td>\n",
       "      <td>130.389999</td>\n",
       "      <td>112.219994</td>\n",
       "      <td>4723500</td>\n",
       "    </tr>\n",
       "  </tbody>\n",
       "</table>\n",
       "</div>"
      ],
      "text/plain": [
       "                                 Open        High         Low       Close  \\\n",
       "Date                                                                        \n",
       "2006-01-03 05:00:00+00:00  126.699997  129.440002  124.230003  128.869995   \n",
       "2006-01-04 05:00:00+00:00  127.349998  128.910004  126.379997  127.089996   \n",
       "2006-01-05 05:00:00+00:00  126.000000  127.320000  125.610001  127.040001   \n",
       "2006-01-06 05:00:00+00:00  127.290001  129.250000  127.290001  128.839996   \n",
       "2006-01-09 05:00:00+00:00  128.500000  130.619995  128.000000  130.389999   \n",
       "\n",
       "                            Adj Close   Volume  \n",
       "Date                                            \n",
       "2006-01-03 05:00:00+00:00  110.911774  6188700  \n",
       "2006-01-04 05:00:00+00:00  109.379845  4861600  \n",
       "2006-01-05 05:00:00+00:00  109.336800  3717400  \n",
       "2006-01-06 05:00:00+00:00  110.885956  4319600  \n",
       "2006-01-09 05:00:00+00:00  112.219994  4723500  "
      ]
     },
     "execution_count": 31,
     "metadata": {},
     "output_type": "execute_result"
    }
   ],
   "source": [
    "# tz naiive -> tz aware..... to desired UTC\n",
    "gs.tz_localize('US/Eastern').tz_convert('UTC').head()"
   ]
  },
  {
   "cell_type": "code",
   "execution_count": null,
   "metadata": {
    "collapsed": true
   },
   "outputs": [],
   "source": []
  }
 ],
 "metadata": {
  "kernelspec": {
   "display_name": "Python 3",
   "language": "python",
   "name": "python3"
  },
  "language_info": {
   "codemirror_mode": {
    "name": "ipython",
    "version": 3
   },
   "file_extension": ".py",
   "mimetype": "text/x-python",
   "name": "python",
   "nbconvert_exporter": "python",
   "pygments_lexer": "ipython3",
   "version": "3.6.6"
  }
 },
 "nbformat": 4,
 "nbformat_minor": 1
}
